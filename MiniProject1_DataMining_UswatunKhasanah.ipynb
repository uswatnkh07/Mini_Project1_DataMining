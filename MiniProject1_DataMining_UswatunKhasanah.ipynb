{
  "cells": [
    {
      "cell_type": "markdown",
      "metadata": {
        "id": "view-in-github",
        "colab_type": "text"
      },
      "source": [
        "<a href=\"https://colab.research.google.com/github/uswatnkh07/Mini_Project1_DataMining/blob/main/MiniProject1_DataMining_UswatunKhasanah.ipynb\" target=\"_parent\"><img src=\"https://colab.research.google.com/assets/colab-badge.svg\" alt=\"Open In Colab\"/></a>"
      ]
    },
    {
      "cell_type": "markdown",
      "source": [
        "# **Menganalisis Kepuasan Penumpang Maskapai Penerbangan**\n",
        "___________________________________________________________\n",
        "###**Studi Kasus Data Mining Dengan Metodologi CRISP-DM Mengnalisis Kepuasan Penumpang Maskapai Penerbangan**\n",
        "Berdasarkan data yang tersedia saya mengalisa bahwa lebih dari separuh penumpang yang disurvei, sebanyak 56,67% penumpang melaporkan bahwa mereka \"netral atau tidak puas\" dengan layanan yang diberikan. Selain itu, bahkan pelanggan setia yang cenderung sering menggunakan layanan perusahaan juga ikut melaporkan masalah. Hal ini menunjukkan bahwa, jika situasi ini dibiarkan maka maskapai penerbangan berisiko kehilangan penumpang yang tentu saja akan mempengaruhi keuntungan maskapai.\n",
        "___________________________________________________________\n",
        "######**Business Understanding**\n",
        "1.   **Business Objective**\n",
        "    \n",
        "      Tujuan bisnis dari dataset ini adalah untuk meningkatkan tingkat kepuasan pelanggan dengan layanan perusahaan. Hal ini akan dicapai dengan beberapa hal yang nantinya diharapkan dapat mencapai tujuan bisnis tersebut. Beberapa hal tersebut dimulai dari memahami demografi penumpang yang menggunakan maskapai ini, kemudian mengidentifikasi kekuatan dan kelemahan dalam penawaran maskapai penerbangan, dan yang terakhir adalah menyarankan area fokus untuk meningkatkan kepuasan pelanggan.\n",
        "2.   **Assess Situation**\n",
        "\n",
        "        Situasi bisnis yang mendasari analisis ini tentu terjadi karena adanya resiko kehilangan penumpang, sebab lebih dari separuh penumpang atau pelanggan termasuk pelanggan setia maskapai memberikan laporan bahwa mereka \"netral atau tidak puas\" dengan layanan maskapai ini.\n",
        "1.   **Data Mining Goals**\n",
        "\n",
        "        Tujuan dari data mining pada dataset ini tentu saja untuk menganalisis yang hanya berfokus pada data seputar survei penumpang, Menganalisis demografi dan faktor yang berhubungan dengan perjalanan penumpang, menganalisis penilaian penumpang terhadap berbagai aspek yang berkaitan dengan pelayanan maskapai, mengantisipasi kehilangan penumpang maskapai, dan yang terakhir adalah membuat urutan perbaikan yang diputuskan.\n",
        "2.   **Project Plan**\n",
        "\n",
        "        Rencana proyek untuk menganalisis dataset ini dimulai dari mengumpulkan data yang relevan seputar survei penumpang pada maskapai ini. Kemudian dataset akan dilakukan pembersihan dan preprocessing data untuk menjaga kekonsistensian dataset yang akan digunakan dalam analisis. Selanjutnya yaitu, mengeksplorasi data untuk memahami hubungan antar variabel dan mengembangkan model prediktif. Dalam tahap ini, analisis data mining akan dilakukan untuk mengidentifikasi faktor-faktor yang berpengaruh terhadap kepuasaan penumpang pada maskapai dan untuk mengetahui faktor service apa saja yang paling berpengaruh terhadap kepuasaan pelanggan. Hasil dari analisis data mining akan digunakan untuk menyusun langkah-langkah yang tepat untuk mengantisipasi kehilangan penumpang. Dengan demikian, rencana proyek ini akan membantu dalam pengembangan program pencegahan yang lebih efektif dan tepat sasaran untuk mengurangi risiko yang akan terjadi dikemudian hari nantinya.\n",
        "\n",
        "\n"
      ],
      "metadata": {
        "id": "D7HelixzsaJ6"
      }
    }
  ],
  "metadata": {
    "colab": {
      "toc_visible": true,
      "provenance": [],
      "include_colab_link": true
    },
    "kernelspec": {
      "display_name": "Python 3",
      "name": "python3"
    }
  },
  "nbformat": 4,
  "nbformat_minor": 0
}